{
 "cells": [
  {
   "cell_type": "code",
   "execution_count": 1,
   "id": "e48b0bb7",
   "metadata": {},
   "outputs": [],
   "source": [
    "import numpy as np\n",
    "from sklearn import model_selection "
   ]
  },
  {
   "cell_type": "code",
   "execution_count": 2,
   "id": "24520ae9",
   "metadata": {},
   "outputs": [],
   "source": [
    "data = np.loadtxt('data.csv', delimiter = ',')\n",
    "x = data[:,0]\n",
    "y = data[:,1]"
   ]
  },
  {
   "cell_type": "code",
   "execution_count": 3,
   "id": "edace636",
   "metadata": {},
   "outputs": [],
   "source": [
    "X_train,X_test,y_train,y_test = model_selection.train_test_split(x,y)"
   ]
  },
  {
   "cell_type": "code",
   "execution_count": 5,
   "id": "d174deef",
   "metadata": {},
   "outputs": [
    {
     "data": {
      "text/plain": [
       "(75,)"
      ]
     },
     "execution_count": 5,
     "metadata": {},
     "output_type": "execute_result"
    }
   ],
   "source": [
    "X_train.shape"
   ]
  },
  {
   "cell_type": "code",
   "execution_count": 6,
   "id": "1c4ede73",
   "metadata": {},
   "outputs": [
    {
     "data": {
      "text/plain": [
       "(25,)"
      ]
     },
     "execution_count": 6,
     "metadata": {},
     "output_type": "execute_result"
    }
   ],
   "source": [
    "X_test.shape"
   ]
  },
  {
   "cell_type": "code",
   "execution_count": 4,
   "id": "b468c367",
   "metadata": {},
   "outputs": [],
   "source": [
    "# fit function\n",
    "def fit(x,y):\n",
    "    num = (x*y).mean()-x.mean()*y.mean()\n",
    "    den = (x**2).mean()-x.mean()**2\n",
    "    m = num/den\n",
    "    c = y.mean() - m*x.mean()\n",
    "    return m,c"
   ]
  },
  {
   "cell_type": "code",
   "execution_count": 12,
   "id": "536621f4",
   "metadata": {},
   "outputs": [],
   "source": [
    "def predict(x,m,c):\n",
    "    y_pred = m*x +c\n",
    "    return y_pred"
   ]
  },
  {
   "cell_type": "code",
   "execution_count": 13,
   "id": "895e8ffd",
   "metadata": {},
   "outputs": [],
   "source": [
    "def score(ytrain,ypred):\n",
    "    u = ((ytrain - ypred)**2).sum()\n",
    "    v = ((ytrain - ytrain.mean())**2).sum()\n",
    "    return 1-u/v"
   ]
  },
  {
   "cell_type": "code",
   "execution_count": 14,
   "id": "0705daf4",
   "metadata": {},
   "outputs": [],
   "source": [
    "def cost(x,y,m,c):\n",
    "    return ((y -m*x+c)**2).sum()"
   ]
  },
  {
   "cell_type": "code",
   "execution_count": 15,
   "id": "c6ad08f7",
   "metadata": {},
   "outputs": [
    {
     "name": "stdout",
     "output_type": "stream",
     "text": [
      "M :  1.315892272545869 \n",
      "C : 8.570799286943327\n",
      "y predict  [55.51932734 74.4051191  89.53812194 72.99147475 93.71842304 83.40414622\n",
      " 83.44666801 79.2232129  61.99541812 68.60002011 84.2405703  90.01956041\n",
      " 50.13735835 74.46166469 51.55974153 67.13134523 57.16680172 73.365026\n",
      " 79.06982981 63.47071491 79.18280539 91.46869739 77.27589909 73.31781468\n",
      " 81.13197891]\n",
      "score :  0.583433296556398\n",
      "cost :  9201.21867713299\n"
     ]
    }
   ],
   "source": [
    "# test data\n",
    "m,c = fit(X_train,y_train)\n",
    "print('M : ',m ,'\\nC :' , c)\n",
    "y_pred = predict(X_test,m,c)\n",
    "print(\"y predict \" ,predict(X_test,m,c))\n",
    "print(\"score : \",score(y_test ,y_pred))\n",
    "print(\"cost : \",cost(X_test,y_test,m,c))"
   ]
  },
  {
   "cell_type": "code",
   "execution_count": null,
   "id": "168232dd",
   "metadata": {},
   "outputs": [],
   "source": []
  }
 ],
 "metadata": {
  "kernelspec": {
   "display_name": "Python 3 (ipykernel)",
   "language": "python",
   "name": "python3"
  },
  "language_info": {
   "codemirror_mode": {
    "name": "ipython",
    "version": 3
   },
   "file_extension": ".py",
   "mimetype": "text/x-python",
   "name": "python",
   "nbconvert_exporter": "python",
   "pygments_lexer": "ipython3",
   "version": "3.9.13"
  }
 },
 "nbformat": 4,
 "nbformat_minor": 5
}
